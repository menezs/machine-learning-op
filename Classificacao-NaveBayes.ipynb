{
 "cells": [
  {
   "cell_type": "code",
   "execution_count": 2,
   "id": "5d3b5bb8-17d0-496f-b950-fed3ddc38ae0",
   "metadata": {},
   "outputs": [],
   "source": [
    "from sklearn.metrics import accuracy_score, classification_report, confusion_matrix\n",
    "from sklearn.feature_extraction.text import CountVectorizer\n",
    "from sklearn.model_selection import train_test_split \n",
    "from sklearn.naive_bayes import MultinomialNB\n",
    "import pandas as pd"
   ]
  },
  {
   "cell_type": "code",
   "execution_count": 15,
   "id": "6111057a-9cb0-4ab7-94e1-4d6cca6ba75f",
   "metadata": {},
   "outputs": [],
   "source": [
    "arquivo = pd.read_csv('reviews.csv', usecols = [0, 1, 2])\n",
    "arquivo = arquivo.iloc[:1000]"
   ]
  },
  {
   "cell_type": "code",
   "execution_count": 16,
   "id": "4ca2b428-f87d-44eb-aa74-80f8b73a4071",
   "metadata": {},
   "outputs": [],
   "source": [
    "# Divive os dados em recursos (X) e rótulos de classe (y)\n",
    "X = arquivo['Review']\n",
    "y = arquivo['Rating']\n",
    "\n",
    "# Vetoriza os textos (Reviews - X) usando CountVectorizer\n",
    "vectorizer = CountVectorizer()\n",
    "X = vectorizer.fit_transform(X)\n",
    "\n",
    "# Divide os dados em conjunto de treinamento e teste, sendo 20% para Teste e 80% para Treino\n",
    "X_train, X_test, y_train, y_test = train_test_split(X, y, test_size=0.2, random_state=42)\n",
    "\n",
    "# Cria e ajusta o modelo Multinomial Naive Bayes\n",
    "nb_classifier = MultinomialNB()\n",
    "nb_classifier.fit(X_train, y_train)\n",
    "\n",
    "# Faz previsões no conjunto de Teste (20% da Base)\n",
    "y_pred = nb_classifier.predict(X_test)\n"
   ]
  },
  {
   "cell_type": "code",
   "execution_count": 17,
   "id": "6027ddb5-3547-4226-9174-0ac02d701d9d",
   "metadata": {},
   "outputs": [
    {
     "name": "stdout",
     "output_type": "stream",
     "text": [
      "Acurácia: 0.63\n",
      "Relatório de Classificação:\n",
      "              precision    recall  f1-score   support\n",
      "\n",
      "           1       0.53      0.87      0.66        62\n",
      "           2       0.00      0.00      0.00        16\n",
      "           3       0.50      0.05      0.09        20\n",
      "           4       0.70      0.25      0.37        28\n",
      "           5       0.76      0.86      0.81        74\n",
      "\n",
      "    accuracy                           0.63       200\n",
      "   macro avg       0.50      0.41      0.39       200\n",
      "weighted avg       0.60      0.63      0.57       200\n",
      "\n"
     ]
    }
   ],
   "source": [
    "# Desempenho do modelo - Relatório\n",
    "accuracy = accuracy_score(y_test, y_pred)\n",
    "report = classification_report(y_test, y_pred)\n",
    "\n",
    "print(f'Acurácia: {accuracy}')\n",
    "print('Relatório de Classificação:')\n",
    "print(report)"
   ]
  },
  {
   "cell_type": "code",
   "execution_count": 18,
   "id": "43202535-106b-4e38-90d4-2e65cf30e300",
   "metadata": {},
   "outputs": [
    {
     "name": "stdout",
     "output_type": "stream",
     "text": [
      "          Classe 1  Classe 2  Classe 3  Classe 4  Classe 5\n",
      "Classe 1        54         2         1         0         5\n",
      "Classe 2        16         0         0         0         0\n",
      "Classe 3        14         1         1         0         4\n",
      "Classe 4        10         0         0         7        11\n",
      "Classe 5         7         0         0         3        64\n"
     ]
    }
   ],
   "source": [
    "class_names = [\"Classe 1\", \"Classe 2\", \"Classe 3\", \"Classe 4\", \"Classe 5\"]\n",
    "\n",
    "# Gera a matriz de confusão\n",
    "conf_matrix = confusion_matrix(y_test, y_pred)\n",
    "confusion_df = pd.DataFrame(conf_matrix, columns=class_names, index=class_names)\n",
    "\n",
    "# Exibindo a matriz de confusão\n",
    "print(confusion_df)"
   ]
  },
  {
   "cell_type": "code",
   "execution_count": null,
   "id": "746f5911-15f0-484a-9e7f-03af649dbee0",
   "metadata": {},
   "outputs": [],
   "source": []
  },
  {
   "cell_type": "code",
   "execution_count": null,
   "id": "1b4afe9c-afe1-47dc-b36a-8159c31a0562",
   "metadata": {},
   "outputs": [],
   "source": []
  }
 ],
 "metadata": {
  "kernelspec": {
   "display_name": "Python 3 (ipykernel)",
   "language": "python",
   "name": "python3"
  },
  "language_info": {
   "codemirror_mode": {
    "name": "ipython",
    "version": 3
   },
   "file_extension": ".py",
   "mimetype": "text/x-python",
   "name": "python",
   "nbconvert_exporter": "python",
   "pygments_lexer": "ipython3",
   "version": "3.11.3"
  }
 },
 "nbformat": 4,
 "nbformat_minor": 5
}
