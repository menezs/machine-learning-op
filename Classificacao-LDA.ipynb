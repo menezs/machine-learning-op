{
 "cells": [
  {
   "cell_type": "code",
   "execution_count": 1,
   "id": "c6f1d61d-c536-4841-88f8-2350cbe388e9",
   "metadata": {},
   "outputs": [],
   "source": [
    "from sklearn.metrics import confusion_matrix, accuracy_score, classification_report\n",
    "from sklearn.discriminant_analysis import LinearDiscriminantAnalysis\n",
    "from sklearn.feature_extraction.text import TfidfVectorizer\n",
    "from sklearn.model_selection import train_test_split\n",
    "import pandas as pd"
   ]
  },
  {
   "cell_type": "code",
   "execution_count": 2,
   "id": "4b98f39c-e150-4284-9681-c9e7f76719a9",
   "metadata": {},
   "outputs": [
    {
     "data": {
      "text/html": [
       "<div>\n",
       "<style scoped>\n",
       "    .dataframe tbody tr th:only-of-type {\n",
       "        vertical-align: middle;\n",
       "    }\n",
       "\n",
       "    .dataframe tbody tr th {\n",
       "        vertical-align: top;\n",
       "    }\n",
       "\n",
       "    .dataframe thead th {\n",
       "        text-align: right;\n",
       "    }\n",
       "</style>\n",
       "<table border=\"1\" class=\"dataframe\">\n",
       "  <thead>\n",
       "    <tr style=\"text-align: right;\">\n",
       "      <th></th>\n",
       "      <th>Time_submitted</th>\n",
       "      <th>Review</th>\n",
       "      <th>Rating</th>\n",
       "    </tr>\n",
       "  </thead>\n",
       "  <tbody>\n",
       "    <tr>\n",
       "      <th>0</th>\n",
       "      <td>2022-07-09 15:00:00</td>\n",
       "      <td>Great music service, the audio is high quality...</td>\n",
       "      <td>5</td>\n",
       "    </tr>\n",
       "    <tr>\n",
       "      <th>1</th>\n",
       "      <td>2022-07-09 14:21:22</td>\n",
       "      <td>Please ignore previous negative rating. This a...</td>\n",
       "      <td>5</td>\n",
       "    </tr>\n",
       "    <tr>\n",
       "      <th>2</th>\n",
       "      <td>2022-07-09 13:27:32</td>\n",
       "      <td>This pop-up \"Get the best Spotify experience o...</td>\n",
       "      <td>4</td>\n",
       "    </tr>\n",
       "    <tr>\n",
       "      <th>3</th>\n",
       "      <td>2022-07-09 13:26:45</td>\n",
       "      <td>Really buggy and terrible to use as of recently</td>\n",
       "      <td>1</td>\n",
       "    </tr>\n",
       "    <tr>\n",
       "      <th>4</th>\n",
       "      <td>2022-07-09 13:20:49</td>\n",
       "      <td>Dear Spotify why do I get songs that I didn't ...</td>\n",
       "      <td>1</td>\n",
       "    </tr>\n",
       "    <tr>\n",
       "      <th>...</th>\n",
       "      <td>...</td>\n",
       "      <td>...</td>\n",
       "      <td>...</td>\n",
       "    </tr>\n",
       "    <tr>\n",
       "      <th>19995</th>\n",
       "      <td>2022-05-21 00:51:56</td>\n",
       "      <td>It keeps saying its has no internet connection...</td>\n",
       "      <td>2</td>\n",
       "    </tr>\n",
       "    <tr>\n",
       "      <th>19996</th>\n",
       "      <td>2022-05-21 00:50:46</td>\n",
       "      <td>Good music playlist</td>\n",
       "      <td>5</td>\n",
       "    </tr>\n",
       "    <tr>\n",
       "      <th>19997</th>\n",
       "      <td>2022-05-21 00:46:52</td>\n",
       "      <td>i love this bc it sooooo awesome and i can lis...</td>\n",
       "      <td>5</td>\n",
       "    </tr>\n",
       "    <tr>\n",
       "      <th>19998</th>\n",
       "      <td>2022-05-21 00:37:00</td>\n",
       "      <td>It's good but sometimes all song are repeating</td>\n",
       "      <td>3</td>\n",
       "    </tr>\n",
       "    <tr>\n",
       "      <th>19999</th>\n",
       "      <td>2022-05-21 00:31:29</td>\n",
       "      <td>Great music app. I use it on a regular basis.</td>\n",
       "      <td>5</td>\n",
       "    </tr>\n",
       "  </tbody>\n",
       "</table>\n",
       "<p>20000 rows × 3 columns</p>\n",
       "</div>"
      ],
      "text/plain": [
       "            Time_submitted                                             Review  \\\n",
       "0      2022-07-09 15:00:00  Great music service, the audio is high quality...   \n",
       "1      2022-07-09 14:21:22  Please ignore previous negative rating. This a...   \n",
       "2      2022-07-09 13:27:32  This pop-up \"Get the best Spotify experience o...   \n",
       "3      2022-07-09 13:26:45    Really buggy and terrible to use as of recently   \n",
       "4      2022-07-09 13:20:49  Dear Spotify why do I get songs that I didn't ...   \n",
       "...                    ...                                                ...   \n",
       "19995  2022-05-21 00:51:56  It keeps saying its has no internet connection...   \n",
       "19996  2022-05-21 00:50:46                                Good music playlist   \n",
       "19997  2022-05-21 00:46:52  i love this bc it sooooo awesome and i can lis...   \n",
       "19998  2022-05-21 00:37:00     It's good but sometimes all song are repeating   \n",
       "19999  2022-05-21 00:31:29      Great music app. I use it on a regular basis.   \n",
       "\n",
       "       Rating  \n",
       "0           5  \n",
       "1           5  \n",
       "2           4  \n",
       "3           1  \n",
       "4           1  \n",
       "...       ...  \n",
       "19995       2  \n",
       "19996       5  \n",
       "19997       5  \n",
       "19998       3  \n",
       "19999       5  \n",
       "\n",
       "[20000 rows x 3 columns]"
      ]
     },
     "execution_count": 2,
     "metadata": {},
     "output_type": "execute_result"
    }
   ],
   "source": [
    "arquivo = pd.read_csv('reviews.csv', usecols = [0, 1, 2])\n",
    "arquivo = arquivo.iloc[:20000]\n",
    "arquivo"
   ]
  },
  {
   "cell_type": "code",
   "execution_count": 5,
   "id": "4b36f626-6d6b-4bb2-af25-57917c94bcc8",
   "metadata": {},
   "outputs": [],
   "source": [
    "# Dividindo dados em recursos (X) e rótulos de classe (y)\n",
    "X = arquivo['Review']\n",
    "y = arquivo['Rating']\n",
    "\n",
    "# O TfidfVectorizer converte o texto em recursos numéricos\n",
    "tfidf_vectorizer = TfidfVectorizer()\n",
    "X_tfidf = tfidf_vectorizer.fit_transform(X)\n",
    "\n",
    "# Dividindo os dados em conjuntos de treinamento e teste - 80% para Treino e 20% para Teste\n",
    "X_train, X_test, y_train, y_test = train_test_split(X_tfidf, y, test_size=0.2, random_state=42)\n",
    "\n",
    "# Crie uma instância do estimador LDA\n",
    "lda = LinearDiscriminantAnalysis()\n",
    "\n",
    "# Ajusta o modelo aos dados de treinamento\n",
    "lda.fit(X_train.toarray(), y_train)  # Converte X_train para array antes do ajuste\n",
    "\n",
    "# Faz previsões em novos dados\n",
    "y_pred_lda = lda.predict(X_test.toarray())  # Converte X_test para array antes das previsões\n"
   ]
  },
  {
   "cell_type": "code",
   "execution_count": 6,
   "id": "26f3c0af-d064-4b12-ae68-469aec68f039",
   "metadata": {},
   "outputs": [
    {
     "name": "stdout",
     "output_type": "stream",
     "text": [
      "Acurácia: 0.51825\n",
      "Relatório de Classificação:\n",
      "              precision    recall  f1-score   support\n",
      "\n",
      "           1       0.54      0.53      0.54      1041\n",
      "           2       0.16      0.15      0.16       375\n",
      "           3       0.18      0.19      0.18       413\n",
      "           4       0.29      0.30      0.29       505\n",
      "           5       0.74      0.74      0.74      1666\n",
      "\n",
      "    accuracy                           0.52      4000\n",
      "   macro avg       0.38      0.38      0.38      4000\n",
      "weighted avg       0.52      0.52      0.52      4000\n",
      "\n"
     ]
    }
   ],
   "source": [
    "# Desempenho do modelo - Relatório\n",
    "accuracy = accuracy_score(y_test, y_pred_lda)\n",
    "report = classification_report(y_test, y_pred_lda)\n",
    "print(f'Acurácia: {accuracy}')\n",
    "print('Relatório de Classificação:')\n",
    "print(report)"
   ]
  },
  {
   "cell_type": "code",
   "execution_count": 7,
   "id": "1e534e1b-94f9-4671-ab9c-05eb2cdc792a",
   "metadata": {},
   "outputs": [
    {
     "name": "stdout",
     "output_type": "stream",
     "text": [
      "          Classe 1  Classe 2  Classe 3  Classe 4  Classe 5\n",
      "Classe 1       549       156       133        74       129\n",
      "Classe 2       169        58        57        45        46\n",
      "Classe 3       129        49        77        87        71\n",
      "Classe 4        63        41        72       151       178\n",
      "Classe 5        99        64        99       166      1238\n"
     ]
    }
   ],
   "source": [
    "class_names = [\"Classe 1\", \"Classe 2\", \"Classe 3\", \"Classe 4\", \"Classe 5\"]\n",
    "\n",
    "# Gera a matriz de confusão\n",
    "conf_matrix = confusion_matrix(y_test, y_pred_lda)\n",
    "confusion_df = pd.DataFrame(conf_matrix, columns=class_names, index=class_names)\n",
    "\n",
    "# Exibindo a matriz de confusão\n",
    "print(confusion_df)"
   ]
  },
  {
   "cell_type": "code",
   "execution_count": null,
   "id": "54495467-6ec5-4230-98fd-f780cc4f6ff8",
   "metadata": {},
   "outputs": [],
   "source": []
  },
  {
   "cell_type": "code",
   "execution_count": null,
   "id": "a6e8e667-0074-4fa7-8778-f429b965895d",
   "metadata": {},
   "outputs": [],
   "source": []
  }
 ],
 "metadata": {
  "kernelspec": {
   "display_name": "Python 3 (ipykernel)",
   "language": "python",
   "name": "python3"
  },
  "language_info": {
   "codemirror_mode": {
    "name": "ipython",
    "version": 3
   },
   "file_extension": ".py",
   "mimetype": "text/x-python",
   "name": "python",
   "nbconvert_exporter": "python",
   "pygments_lexer": "ipython3",
   "version": "3.11.3"
  }
 },
 "nbformat": 4,
 "nbformat_minor": 5
}
