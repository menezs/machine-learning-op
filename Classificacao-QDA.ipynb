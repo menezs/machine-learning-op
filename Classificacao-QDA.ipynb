{
 "cells": [
  {
   "cell_type": "code",
   "execution_count": 7,
   "id": "db19a195-c878-4262-85e6-431924fa9d5b",
   "metadata": {},
   "outputs": [],
   "source": [
    "from sklearn.metrics import classification_report, accuracy_score, confusion_matrix\n",
    "from sklearn.discriminant_analysis import QuadraticDiscriminantAnalysis\n",
    "from sklearn.feature_extraction.text import TfidfVectorizer\n",
    "from sklearn.model_selection import train_test_split\n",
    "import pandas as pd"
   ]
  },
  {
   "cell_type": "code",
   "execution_count": 8,
   "id": "8d404f4a-c599-4339-8421-e7ebccc20a2b",
   "metadata": {},
   "outputs": [],
   "source": [
    "arquivo = pd.read_csv('reviews.csv', usecols = [0, 1, 2])\n",
    "arquivo = arquivo.iloc[:30000]"
   ]
  },
  {
   "cell_type": "code",
   "execution_count": 9,
   "id": "f67cd244-c60d-4578-a01a-a1ca0d3e9f32",
   "metadata": {},
   "outputs": [
    {
     "name": "stderr",
     "output_type": "stream",
     "text": [
      "C:\\Users\\DMG\\AppData\\Local\\Programs\\Python\\Python311\\Lib\\site-packages\\sklearn\\discriminant_analysis.py:935: UserWarning: Variables are collinear\n",
      "  warnings.warn(\"Variables are collinear\")\n"
     ]
    }
   ],
   "source": [
    "# Dividindo dados em recursos (X) e rótulos de classe (y)\n",
    "X = arquivo['Review']\n",
    "y = arquivo['Rating']\n",
    "\n",
    "# O TfidfVectorizer converte o texto em recursos numéricos\n",
    "tfidf_vectorizer = TfidfVectorizer()\n",
    "X_tfidf = tfidf_vectorizer.fit_transform(X)\n",
    "\n",
    "# Dividindo os dados em conjuntos de treinamento e teste - 80% para Treino e 20% para Teste\n",
    "X_train, X_test, y_train, y_test = train_test_split(X_tfidf, y, test_size=0.2, random_state=42)\n",
    "\n",
    "# Crie uma instância do estimador QDA\n",
    "qda = QuadraticDiscriminantAnalysis()\n",
    "\n",
    "# Ajusta o modelo aos dados de treinamento\n",
    "qda.fit(X_train.toarray(), y_train)  # Converte X_train para array antes do ajuste\n",
    "\n",
    "# Faz previsões em novos dados\n",
    "y_pred_qda = qda.predict(X_test.toarray())  # Converte X_test para array antes das previsões\n"
   ]
  },
  {
   "cell_type": "code",
   "execution_count": 10,
   "id": "e6a35340-c6ec-482e-9935-f336147b8511",
   "metadata": {},
   "outputs": [
    {
     "name": "stdout",
     "output_type": "stream",
     "text": [
      "Acurácia: 0.4056666666666667\n",
      "Relatório de Classificação:\n",
      "              precision    recall  f1-score   support\n",
      "\n",
      "           1       0.43      0.26      0.33      1518\n",
      "           2       0.09      0.01      0.02       573\n",
      "           3       0.13      0.30      0.18       619\n",
      "           4       0.17      0.04      0.06       772\n",
      "           5       0.54      0.72      0.62      2518\n",
      "\n",
      "    accuracy                           0.41      6000\n",
      "   macro avg       0.27      0.27      0.24      6000\n",
      "weighted avg       0.38      0.41      0.37      6000\n",
      "\n"
     ]
    }
   ],
   "source": [
    "# Desempenho do modelo - Relatório\n",
    "accuracy = accuracy_score(y_test, y_pred_qda)\n",
    "report = classification_report(y_test, y_pred_qda)\n",
    "print(f'Acurácia: {accuracy}')\n",
    "print('Relatório de Classificação:')\n",
    "print(report)"
   ]
  },
  {
   "cell_type": "code",
   "execution_count": 11,
   "id": "11b35ab5-ef6c-4044-acc3-8b2ee002739c",
   "metadata": {},
   "outputs": [
    {
     "name": "stdout",
     "output_type": "stream",
     "text": [
      "          Classe 1  Classe 2  Classe 3  Classe 4  Classe 5\n",
      "Classe 1       402        34       489        31       562\n",
      "Classe 2       132         8       202        12       219\n",
      "Classe 3       124         9       184        29       273\n",
      "Classe 4        90        10       179        31       462\n",
      "Classe 5       184        31       415        79      1809\n"
     ]
    }
   ],
   "source": [
    "class_names = [\"Classe 1\", \"Classe 2\", \"Classe 3\", \"Classe 4\", \"Classe 5\"]\n",
    "\n",
    "# Gera a matriz de confusão\n",
    "conf_matrix = confusion_matrix(y_test, y_pred_qda)\n",
    "confusion_df = pd.DataFrame(conf_matrix, columns=class_names, index=class_names)\n",
    "\n",
    "# Exibindo a matriz de confusão\n",
    "print(confusion_df)"
   ]
  },
  {
   "cell_type": "code",
   "execution_count": null,
   "id": "d51a1b1d-885a-4535-bf05-0604a1138509",
   "metadata": {},
   "outputs": [],
   "source": []
  },
  {
   "cell_type": "code",
   "execution_count": null,
   "id": "31bb6bc4-9bde-4d1d-a2e0-8a791c1916bb",
   "metadata": {},
   "outputs": [],
   "source": []
  }
 ],
 "metadata": {
  "kernelspec": {
   "display_name": "Python 3 (ipykernel)",
   "language": "python",
   "name": "python3"
  },
  "language_info": {
   "codemirror_mode": {
    "name": "ipython",
    "version": 3
   },
   "file_extension": ".py",
   "mimetype": "text/x-python",
   "name": "python",
   "nbconvert_exporter": "python",
   "pygments_lexer": "ipython3",
   "version": "3.11.3"
  }
 },
 "nbformat": 4,
 "nbformat_minor": 5
}
